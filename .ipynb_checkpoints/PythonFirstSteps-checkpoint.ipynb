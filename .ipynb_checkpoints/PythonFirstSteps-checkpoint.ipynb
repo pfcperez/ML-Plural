{
 "cells": [
  {
   "cell_type": "markdown",
   "metadata": {},
   "source": [
    "# Learning \n",
    "This notebook contains some examples of using *Jupyter Notebook* and *Python3*\n",
    "\n",
    "\n"
   ]
  },
  {
   "cell_type": "code",
   "execution_count": 4,
   "metadata": {},
   "outputs": [
    {
     "name": "stdout",
     "output_type": "stream",
     "text": [
      "Hello Ramiro\n",
      "\n"
     ]
    }
   ],
   "source": [
    "my_name = \"Ramiro\"\n",
    "hello_statement = \"Hello \"+ my_name\n",
    "print(hello_statement, end=\"\\n\\n\")\n",
    "x = 10"
   ]
  },
  {
   "cell_type": "code",
   "execution_count": 5,
   "metadata": {},
   "outputs": [
    {
     "name": "stdout",
     "output_type": "stream",
     "text": [
      "j=1 x11\n",
      "j=2 x13\n",
      "j=3 x16\n",
      "j=4 x20\n"
     ]
    }
   ],
   "source": [
    "for j in range(1,5):\n",
    "    x = x + j\n",
    "    print(\"j={0} x{1}\".format(j,x))"
   ]
  },
  {
   "cell_type": "code",
   "execution_count": null,
   "metadata": {},
   "outputs": [],
   "source": []
  }
 ],
 "metadata": {
  "kernelspec": {
   "display_name": "Python 3",
   "language": "python",
   "name": "python3"
  },
  "language_info": {
   "codemirror_mode": {
    "name": "ipython",
    "version": 3
   },
   "file_extension": ".py",
   "mimetype": "text/x-python",
   "name": "python",
   "nbconvert_exporter": "python",
   "pygments_lexer": "ipython3",
   "version": "3.6.4"
  }
 },
 "nbformat": 4,
 "nbformat_minor": 2
}
